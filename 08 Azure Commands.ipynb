{
 "cells": [
  {
   "cell_type": "code",
   "execution_count": null,
   "metadata": {},
   "outputs": [],
   "source": [
    "'''\n",
    "Different Options for Running Azure Commands\n",
    "    - Azure CLI\n",
    "    - Cloud Shell\n",
    "\n",
    "Azure CLI:\n",
    "    - The Azure CLI is available to install in Windows, macOS and Linux environments. It can also be run in a Docker \n",
    "      container and Azure Cloud Shell.\n",
    "      \n",
    "Azure Cloud Shell\n",
    "    - Azure Cloud Shell is an interactive, authenticated, browser-accessible shell for managing Azure resources."
   ]
  },
  {
   "cell_type": "code",
   "execution_count": null,
   "metadata": {},
   "outputs": [],
   "source": [
    "'''\n",
    "1. az --version\n",
    "\n",
    "1. az loginv\n",
    "\n",
    "Add the Azure DevOps extension\n",
    "1. az extension add --name azure-devops\n",
    "\n",
    "1. az pipelines build list -o table\n",
    "\n",
    "1. az pipelines build queue --defination-name contoso.CI -o table\n",
    "\n",
    "1. Create a Resource Group\n",
    "    az group create -n MyResourceGroup -l <region>\n",
    "   \n",
    "2. Create an App service plan\n",
    "    az appservice plan create -g MyResourceGroup -n MyPlan --sku S1\n",
    "    \n",
    "3. Create two web apps with a unique app names.\n",
    "    az webapp create -g MyResourceGroup -p MyPlan -n PartsUnlimited-Canary\n",
    "    az webapp create -g MyResourceGroup -p MyPlan -n PartsUnlimited-Prod"
   ]
  },
  {
   "cell_type": "code",
   "execution_count": null,
   "metadata": {},
   "outputs": [],
   "source": []
  }
 ],
 "metadata": {
  "kernelspec": {
   "display_name": "Python 3",
   "language": "python",
   "name": "python3"
  },
  "language_info": {
   "codemirror_mode": {
    "name": "ipython",
    "version": 3
   },
   "file_extension": ".py",
   "mimetype": "text/x-python",
   "name": "python",
   "nbconvert_exporter": "python",
   "pygments_lexer": "ipython3",
   "version": "3.7.4"
  }
 },
 "nbformat": 4,
 "nbformat_minor": 2
}
