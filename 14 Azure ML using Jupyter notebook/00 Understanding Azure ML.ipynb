{
 "cells": [
  {
   "cell_type": "code",
   "execution_count": null,
   "metadata": {},
   "outputs": [],
   "source": [
    "'''\n",
    "Need of Azure ML :\n",
    "    - I am working on machine Leanring Experiments. For this, I tried 5 different algorithms Arima, ETS, Facebook Prophet, \n",
    "      XGBoost, and Random Forest.I also used several imputation techniques which also involved a number of hyperparameters.\n",
    "      The work goes for around 2 months and I worked on it continuously. It was very difficult and cumbersome to maintain the \n",
    "      various metrics of the model runs and their hyperparameters.It would have been easier if I could log the metrics and \n",
    "      the hyperparameters in a more systematic manner. This would have helped me ease the model management to a great extent."
   ]
  },
  {
   "cell_type": "code",
   "execution_count": null,
   "metadata": {},
   "outputs": [],
   "source": [
    "'''\n",
    "Objective : Find the output\n",
    "\n",
    "We divide our approach into 2 major blocks:\n",
    "    1. Building the Model in Azure ML\n",
    "    2. Inference from the Model in Azure ML\n",
    "    \n",
    "Building the model in Azure ML\n",
    "    1.Create the Azure ML workspace\n",
    "    2.Upload data into the Azure ML Workspace\n",
    "    3.Create the code folder\n",
    "    4.Create the Compute Cluster\n",
    "    5.Create the Model\n",
    "    6.Create the Compute Environment\n",
    "    7.Create the Estimator\n",
    "    8.Create the Experiment and Run\n",
    "    9.Register the Model\n",
    "    \n",
    "Inferencing from the model in Azure ML\n",
    "    1.Create the Inference Script\n",
    "    2.Create the Inference Dependencies\n",
    "    3.Create the Inference Config\n",
    "    4.Create the Inference Clusters\n",
    "    5.Deploy the Model in the Inference Cluster\n",
    "    6.Get the predictions"
   ]
  },
  {
   "cell_type": "code",
   "execution_count": null,
   "metadata": {},
   "outputs": [],
   "source": []
  }
 ],
 "metadata": {
  "kernelspec": {
   "display_name": "Python 3",
   "language": "python",
   "name": "python3"
  },
  "language_info": {
   "codemirror_mode": {
    "name": "ipython",
    "version": 3
   },
   "file_extension": ".py",
   "mimetype": "text/x-python",
   "name": "python",
   "nbconvert_exporter": "python",
   "pygments_lexer": "ipython3",
   "version": "3.7.4"
  }
 },
 "nbformat": 4,
 "nbformat_minor": 2
}
