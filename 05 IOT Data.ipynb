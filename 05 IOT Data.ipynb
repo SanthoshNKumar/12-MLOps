{
 "cells": [
  {
   "cell_type": "code",
   "execution_count": null,
   "metadata": {},
   "outputs": [],
   "source": [
    "'''\n",
    "IOT data:\n",
    "    - IoT data collection is the process of using sensors to track the conditions of physical things. \n",
    "    - Devices and technology connected over the  Internet of Things (IoT)  can monitor and measure data in real time. \n",
    "    - The data are transmitted, stored, and can be retrieved at any time.\n",
    "    \n",
    "Types of IoT Data\n",
    "    - Equipment data\n",
    "        - This type of data enables real-time fault detection, runtime-based schedules and predictive maintenance thus saving \n",
    "          energy cost, increasing productivity and extending equipment life.\n",
    "    - Environmental data\n",
    "        - IoT sensors can be deployed to track a range of data streams within buildings: temperature, air quality, people flow, \n",
    "          moisture, or movement. \n",
    "        - These datasets are primarily used to be proactive for occupant comfort issues and avoid disaster scenarios such as \n",
    "          leaks and floods.\n",
    "    - Submeter data\n",
    "        - Digital Submetering devices connected to the internet help automate the utility submetering process which  costs, \n",
    "          eliminates errors and generates bills as soon as the billing period ends.\n",
    "          \n",
    "IoT data helps homes, offices, retail stores, and institutions to optimize building performance by.\n",
    "    - Reducing energy consumption. IoT tracks the amount of electricity spent by the property, operators become more aware of \n",
    "      potential ways to reduce energy consumption. \n",
    "    - Improving environment quality. Monitor air quality level to create a favorable environment for tenants and increase \n",
    "      employees’ productivity.\n",
    "    - Maximizing equipment performance. IoT data collection is the foundation of preventative maintenance and predictive \n",
    "      maintenance, which can reduce the likelihood of unexpected equipment breakdown."
   ]
  },
  {
   "cell_type": "code",
   "execution_count": null,
   "metadata": {},
   "outputs": [],
   "source": [
    "'''\n",
    "IoT Data Collection Technology and Process\n",
    "    - Standard components of IoT\n",
    "    \n",
    "    1. Device Layer : A range of devices that communicate with one another is the primary layer of IoT architecture.\n",
    "        - Sensors that track motion, temperature, heart rate, and other variables;\n",
    "        - Actuators;\n",
    "        - ZigBee devices;\n",
    "                - Bluetooth and BLE devices;\n",
    "        - Low-power-radio-based devices.\n",
    "        \n",
    "    All IoT devices have an identity that falls into one of the following categories:\n",
    "\n",
    "        - A built-in unique identifier (or UUID) placed inside of a device, like a chip;\n",
    "        - An identifier that relies on radio IoT data collection systems — Wi-Fi MAC, Bluetooth, etc.;\n",
    "        - An identifier located inside the system’s non-volatile memory (EEPROM);\n",
    "        - A Refresh/Bearer token.\n",
    "        \n",
    "    Communication Layer :\n",
    "        - This part of the architecture allows devices to communicate with each other and exchange data.\n",
    "        - The communication layer consists of protocols, among which the following ones:\n",
    "            - HTTP/HTTPS — a basic text-based protocol supported even by low-end 8-bit devices.\n",
    "            - MQTT — a protocol, designed to handle embedded systems and optimized to support IoT. \n",
    "                It is known for a wide community of followers, as well as a robust asset library.\n",
    "            - CoAP — based on HTTP semantics, CoAP scores higher in terms of a footprint.\n",
    "                Compared to MQTT, the protocol is harder to connect to firewalls and has poorer library support.\n",
    "                \n",
    "    IT Edge Layer :\n",
    "        - This layer is often considered the application’s command station as it brokers communications. \n",
    "              In an IoT application, it carries out the following functions\n",
    "            - Device management;\n",
    "            - Ensuring processing security;\n",
    "            - Aggregating and replicating data;\n",
    "            - Routing data to/from the cloud;\n",
    "            - Priority messaging;\n",
    "            - Processing images, audio, and other types of data at the edge.\n",
    "            \n",
    "    Event processing layer\n",
    "        - After IoT data is collected, an application needs to process and store it — this happens in the event processing \n",
    "          layer of the system.\n",
    "        - In this layer, multiple operations are handled:\n",
    "                - Cleansing the data;\n",
    "                - Structuring gathered insights;\n",
    "                - Storing the information inside a database;\n",
    "                - Adding metadata to IoT data."
   ]
  },
  {
   "cell_type": "code",
   "execution_count": null,
   "metadata": {},
   "outputs": [],
   "source": [
    "'''\n",
    "\n",
    "Connect IOT to AWS\n",
    "    1. Open your AWS IoT console and from the left menu, choose Learn.\n",
    "    2. On the Connect to AWS IoT tile, choose View connection options.\n",
    "    3. In the Onboard a device tile, choose Get started.\n",
    "    4. Choose Get started.\n",
    "    5. Create a thing object : On the How are you connecting to AWS IoT?\n",
    "       Choose the platform and the language of the AWS IoT Device SDK that you want to use. \n",
    "       This example uses the Linux/OSX platform and the Node.js SDK.\n",
    "    6. In the Name field, enter the name for your thing object. The thing name used in this example is MyIotThing.\n",
    "    7. After you give your thing object a name, choose Next step.\n",
    "    8. Download files to your device (connection kit )\n",
    "    9. Run the sample : This procedure is done in a terminal or command window on your device while following \n",
    "       the directions displayed in the console."
   ]
  },
  {
   "cell_type": "code",
   "execution_count": null,
   "metadata": {},
   "outputs": [],
   "source": [
    "'''\n",
    "Amazon having IOT Core platform and Microsoft having Iot hub for storing IoT data on cloud platform"
   ]
  },
  {
   "cell_type": "code",
   "execution_count": null,
   "metadata": {},
   "outputs": [],
   "source": []
  }
 ],
 "metadata": {
  "kernelspec": {
   "display_name": "Python 3",
   "language": "python",
   "name": "python3"
  },
  "language_info": {
   "codemirror_mode": {
    "name": "ipython",
    "version": 3
   },
   "file_extension": ".py",
   "mimetype": "text/x-python",
   "name": "python",
   "nbconvert_exporter": "python",
   "pygments_lexer": "ipython3",
   "version": "3.7.4"
  }
 },
 "nbformat": 4,
 "nbformat_minor": 2
}
